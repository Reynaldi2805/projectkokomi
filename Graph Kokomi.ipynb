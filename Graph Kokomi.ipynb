{
 "cells": [
  {
   "cell_type": "code",
   "execution_count": 1,
   "metadata": {},
   "outputs": [],
   "source": [
    "import pandas as pd\n",
    "import numpy as np\n",
    "import matplotlib.pyplot as plt\n",
    "import seaborn as sns"
   ]
  },
  {
   "cell_type": "code",
   "execution_count": 2,
   "metadata": {},
   "outputs": [
    {
     "name": "stdout",
     "output_type": "stream",
     "text": [
      "genshin bannerr.csv\n"
     ]
    },
    {
     "data": {
      "text/plain": [
       "<bound method NDFrame.head of     version                            version_name  start_date    end_date  \\\n",
       "0       1.0                       Welcome to Tevyat  2020-09-25  2020-10-19   \n",
       "1       1.0                       Welcome to Tevyat  2020-10-20  2020-11-10   \n",
       "2       1.1                   A New Star Approaches  2020-11-11  2020-11-30   \n",
       "3       1.1                   A New Star Approaches  2020-12-01  2020-12-22   \n",
       "4       1.2         The Chalk Prince and the Dragon  2020-12-23  2021-01-12   \n",
       "5       1.2         The Chalk Prince and the Dragon  2021-01-13  2021-02-02   \n",
       "6       1.3                       All That Glitters  2021-02-03  2021-02-17   \n",
       "7       1.3                       All That Glitters  2021-02-18  2021-03-02   \n",
       "8       1.3                       All That Glitters  2021-03-03  2021-03-16   \n",
       "9       1.4                 Invitation to Windblume  2021-03-17  2021-04-06   \n",
       "10      1.4                 Invitation to Windblume  2021-04-07  2021-04-27   \n",
       "11      1.5            Beneath the Light of Jadeite  2021-04-28  2021-05-18   \n",
       "12      1.5            Beneath the Light of Jadeite  2021-05-19  2021-06-08   \n",
       "13      1.6              Midsummer Island Adventure  2021-06-09  2021-06-29   \n",
       "14      1.6              Midsummer Island Adventure  2021-06-30  2021-07-20   \n",
       "15      2.0  Immovable God and the Eternal Euthymia  2021-07-21  2021-08-10   \n",
       "16      2.0  Immovable God and the Eternal Euthymia  2021-08-11  2021-08-31   \n",
       "17      2.1      Floating World Under the Moonlight  2021-09-01  2021-09-20   \n",
       "18      2.1      Floating World Under the Moonlight  2021-09-21  2021-10-12   \n",
       "19      2.2      Into the Perilous Labyrinth of Fog  2021-10-13  2021-11-02   \n",
       "20      2.2      Into the Perilous Labyrinth of Fog  2021-11-02  2021-11-23   \n",
       "21      2.3               Shadows Amidst Snowstorms  2021-11-24  2021-12-14   \n",
       "22      2.3               Shadows Amidst Snowstorms  2021-12-14  2022-01-04   \n",
       "23      2.4               Fleeting Colors in Flight  2022-01-05  2022-01-25   \n",
       "24      2.4               Fleeting Colors in Flight  2022-01-25  2022-02-15   \n",
       "25      2.5                   When the Sakura Bloom  2022-02-16  2022-03-08   \n",
       "26      2.5                   When the Sakura Bloom  2022-03-08  2022-03-29   \n",
       "27      2.6             Zephyr of the Violet Garden  2022-03-30  2022-04-19   \n",
       "28      2.6             Zephyr of the Violet Garden  2022-04-19  2022-05-31   \n",
       "29      2.7             Hidden Dreams in the Depths  2022-05-31  2022-06-21   \n",
       "30      2.7             Hidden Dreams in the Depths  2022-06-21  2022-07-12   \n",
       "31      2.8                         Summer Fantasia  2022-07-13  2022-08-02   \n",
       "32      2.8                         Summer Fantasia  2022-08-02  2022-08-23   \n",
       "33      3.0        The Morn a Thousand Roses Brings  2022-08-23  2022-09-09   \n",
       "34      3.0        The Morn a Thousand Roses Brings  2022-09-09  2022-09-27   \n",
       "35      3.1         King Deshret and the Three Magi  2022-09-27  2022-10-14   \n",
       "36      3.1         King Deshret and the Three Magi  2022-10-14  2022-11-01   \n",
       "37      3.2    Akasha Pulses, the Kalpa Flame Rises  2022-11-01  2022-11-15   \n",
       "\n",
       "                              5_star_characters rerun mixed   revenue  \\\n",
       "0                                         Venti     N     N  30632752   \n",
       "1                                          Klee     N     N  22750080   \n",
       "2                                     Tartaglia     N     N  13443619   \n",
       "3                                       Zhongli     N     N  16264892   \n",
       "4                                        Albedo     N     N  11816107   \n",
       "5                                         Ganyu     N     N  15669918   \n",
       "6                                          Xiao     N     N  13145115   \n",
       "7                                        Keqing     N     N   9505798   \n",
       "8                                        Hu Tao     N     N  12481634   \n",
       "9                                 Venti (Rerun)     Y     N  16614209   \n",
       "10                            Tartaglia (Rerun)     Y     N   6965445   \n",
       "11                              Zhongli (Rerun)     Y     N  10215165   \n",
       "12                                         Eula     N     N  12619390   \n",
       "13                                 Klee (Rerun)     Y     N   7006180   \n",
       "14                             Kaedehara Kazuha     N     N   9807112   \n",
       "15                               Kamisato Ayaka     N     N  16451006   \n",
       "16                                      Yoimiya     N     N   8615144   \n",
       "17                                Raiden Shogun     N     N  33020905   \n",
       "18                           Sangonomiya Kokomi     N     N   7020975   \n",
       "19                        Tartaglia (2nd Rerun)     Y     N   7785438   \n",
       "20                               Hu Tao (Rerun)     Y     N  25226952   \n",
       "21                Albedo (Rerun) & Eula (Rerun)     Y     Y  17026066   \n",
       "22                                 Arataki Itto     N     N  13404072   \n",
       "23                        Shenhe & Xiao (Rerun)     Y     Y  16994406   \n",
       "24          Ganyu (Rerun) & Zhongli (2nd Rerun)     Y     Y  26780298   \n",
       "25                                     Yae Miko     N     N  15110264   \n",
       "26      Raiden Shogun (Rerun) &  Kokomi (Rerun)     Y     Y  33560259   \n",
       "27           Kamisato Ayato & Venti (2nd Rerun)     Y     Y  22767455   \n",
       "28                       Kamisato Ayaka (Rerun)     Y     N  35939066   \n",
       "29                     Yelan & Xiao (2nd Rerun)     Y     Y  32177144   \n",
       "30                         Arataki Itto (Rerun)     Y     N  12586764   \n",
       "31  Kaedehara Kazuha (Rerun) & Klee (2nd Rerun)     Y     Y  24808479   \n",
       "32                              Yoimiya (Rerun)     Y     N  14333266   \n",
       "33               Tighnari & Zhongli (3rd Rerun)     Y     Y  19068372   \n",
       "34      Ganyu (2nd Rerun) &  Kokomi (2nd Rerun)     Y     Y  15681840   \n",
       "35                     Cyno & Venti (3rd Rerun)     Y     Y  19052023   \n",
       "36                   Nilou & Albedo (2nd Rerun)     Y     Y  15731680   \n",
       "37                 Nahida & Yoimiya (2nd Rerun)     Y     Y  32101943   \n",
       "\n",
       "    banner_days  avg_revenue  \n",
       "0            25  1225310.080  \n",
       "1            22  1034094.550  \n",
       "2            20   672180.950  \n",
       "3            22   739313.270  \n",
       "4            21   562671.760  \n",
       "5            21   746186.570  \n",
       "6            15   876341.000  \n",
       "7            13   731215.230  \n",
       "8            14   891545.290  \n",
       "9            21   791152.810  \n",
       "10           21   331687.860  \n",
       "11           21   486436.430  \n",
       "12           21   600923.330  \n",
       "13           21   333627.620  \n",
       "14           21   467005.330  \n",
       "15           21   783381.240  \n",
       "16           21   410244.950  \n",
       "17           20  1651045.250  \n",
       "18           22   319135.230  \n",
       "19           21   370735.140  \n",
       "20           22  1146679.640  \n",
       "21           21   810765.050  \n",
       "22           22   609276.000  \n",
       "23           21   809257.430  \n",
       "24           22  1217286.270  \n",
       "25           21   719536.380  \n",
       "26           22  1525466.320  \n",
       "27           21  1084164.520  \n",
       "28           43   835792.230  \n",
       "29           22  1462597.450  \n",
       "30           22   572125.640  \n",
       "31           21  1181356.140  \n",
       "32           22   651512.090  \n",
       "33           18  1059354.000  \n",
       "34           19   825360.000  \n",
       "35           18  1058445.720  \n",
       "36           19   827983.160  \n",
       "37           15  2140129.533  >"
      ]
     },
     "execution_count": 2,
     "metadata": {},
     "output_type": "execute_result"
    }
   ],
   "source": [
    "genshin_data = 'genshin bannerr.csv'\n",
    "print(genshin_data)\n",
    "\n",
    "df = pd.read_csv(genshin_data)\n",
    "df.head"
   ]
  },
  {
   "cell_type": "code",
   "execution_count": 3,
   "metadata": {},
   "outputs": [
    {
     "name": "stdout",
     "output_type": "stream",
     "text": [
      "<class 'pandas.core.frame.DataFrame'>\n",
      "RangeIndex: 38 entries, 0 to 37\n",
      "Data columns (total 10 columns):\n",
      " #   Column             Non-Null Count  Dtype  \n",
      "---  ------             --------------  -----  \n",
      " 0   version            38 non-null     float64\n",
      " 1   version_name       38 non-null     object \n",
      " 2   start_date         38 non-null     object \n",
      " 3   end_date           38 non-null     object \n",
      " 4   5_star_characters  38 non-null     object \n",
      " 5   rerun              38 non-null     object \n",
      " 6   mixed              38 non-null     object \n",
      " 7   revenue            38 non-null     int64  \n",
      " 8   banner_days        38 non-null     int64  \n",
      " 9   avg_revenue        38 non-null     float64\n",
      "dtypes: float64(2), int64(2), object(6)\n",
      "memory usage: 3.1+ KB\n"
     ]
    }
   ],
   "source": [
    "df.info()"
   ]
  },
  {
   "cell_type": "code",
   "execution_count": 4,
   "metadata": {},
   "outputs": [
    {
     "name": "stdout",
     "output_type": "stream",
     "text": [
      "version               object\n",
      "version_name          object\n",
      "start_date            object\n",
      "end_date              object\n",
      "5_star_characters     object\n",
      "rerun                 object\n",
      "mixed                 object\n",
      "revenue                int64\n",
      "banner_days            int64\n",
      "avg_revenue          float64\n",
      "dtype: object\n"
     ]
    }
   ],
   "source": [
    "convert_dict = {'version': str}\n",
    " \n",
    "df = df.astype(convert_dict)\n",
    "print(df.dtypes)"
   ]
  },
  {
   "cell_type": "code",
   "execution_count": 5,
   "metadata": {},
   "outputs": [
    {
     "name": "stdout",
     "output_type": "stream",
     "text": [
      "0     1.0\n",
      "1     1.0\n",
      "2     1.1\n",
      "3     1.1\n",
      "4     1.2\n",
      "5     1.2\n",
      "6     1.3\n",
      "7     1.3\n",
      "8     1.3\n",
      "9     1.4\n",
      "10    1.4\n",
      "11    1.5\n",
      "12    1.5\n",
      "13    1.6\n",
      "14    1.6\n",
      "15    2.0\n",
      "16    2.0\n",
      "17    2.1\n",
      "18    2.1\n",
      "19    2.2\n",
      "20    2.2\n",
      "21    2.3\n",
      "22    2.3\n",
      "23    2.4\n",
      "24    2.4\n",
      "25    2.5\n",
      "26    2.5\n",
      "27    2.6\n",
      "28    2.6\n",
      "29    2.7\n",
      "30    2.7\n",
      "31    2.8\n",
      "32    2.8\n",
      "33    3.0\n",
      "34    3.0\n",
      "35    3.1\n",
      "36    3.1\n",
      "37    3.2\n",
      "Name: version, dtype: object\n"
     ]
    }
   ],
   "source": [
    "print(df['version'])"
   ]
  },
  {
   "cell_type": "code",
   "execution_count": 6,
   "metadata": {},
   "outputs": [
    {
     "data": {
      "text/html": [
       "<div>\n",
       "<style scoped>\n",
       "    .dataframe tbody tr th:only-of-type {\n",
       "        vertical-align: middle;\n",
       "    }\n",
       "\n",
       "    .dataframe tbody tr th {\n",
       "        vertical-align: top;\n",
       "    }\n",
       "\n",
       "    .dataframe thead th {\n",
       "        text-align: right;\n",
       "    }\n",
       "</style>\n",
       "<table border=\"1\" class=\"dataframe\">\n",
       "  <thead>\n",
       "    <tr style=\"text-align: right;\">\n",
       "      <th></th>\n",
       "      <th>version</th>\n",
       "      <th>version_name</th>\n",
       "      <th>start_date</th>\n",
       "      <th>end_date</th>\n",
       "      <th>5_star_characters</th>\n",
       "      <th>rerun</th>\n",
       "      <th>mixed</th>\n",
       "      <th>revenue</th>\n",
       "      <th>banner_days</th>\n",
       "      <th>avg_revenue</th>\n",
       "    </tr>\n",
       "  </thead>\n",
       "  <tbody>\n",
       "    <tr>\n",
       "      <th>0</th>\n",
       "      <td>1.0</td>\n",
       "      <td>Welcome to Tevyat</td>\n",
       "      <td>2020-09-25</td>\n",
       "      <td>2020-10-19</td>\n",
       "      <td>Venti</td>\n",
       "      <td>N</td>\n",
       "      <td>N</td>\n",
       "      <td>30632752</td>\n",
       "      <td>25</td>\n",
       "      <td>1225310.08</td>\n",
       "    </tr>\n",
       "    <tr>\n",
       "      <th>1</th>\n",
       "      <td>1.0</td>\n",
       "      <td>Welcome to Tevyat</td>\n",
       "      <td>2020-10-20</td>\n",
       "      <td>2020-11-10</td>\n",
       "      <td>Klee</td>\n",
       "      <td>N</td>\n",
       "      <td>N</td>\n",
       "      <td>22750080</td>\n",
       "      <td>22</td>\n",
       "      <td>1034094.55</td>\n",
       "    </tr>\n",
       "    <tr>\n",
       "      <th>2</th>\n",
       "      <td>1.1</td>\n",
       "      <td>A New Star Approaches</td>\n",
       "      <td>2020-11-11</td>\n",
       "      <td>2020-11-30</td>\n",
       "      <td>Tartaglia</td>\n",
       "      <td>N</td>\n",
       "      <td>N</td>\n",
       "      <td>13443619</td>\n",
       "      <td>20</td>\n",
       "      <td>672180.95</td>\n",
       "    </tr>\n",
       "    <tr>\n",
       "      <th>3</th>\n",
       "      <td>1.1</td>\n",
       "      <td>A New Star Approaches</td>\n",
       "      <td>2020-12-01</td>\n",
       "      <td>2020-12-22</td>\n",
       "      <td>Zhongli</td>\n",
       "      <td>N</td>\n",
       "      <td>N</td>\n",
       "      <td>16264892</td>\n",
       "      <td>22</td>\n",
       "      <td>739313.27</td>\n",
       "    </tr>\n",
       "    <tr>\n",
       "      <th>4</th>\n",
       "      <td>1.2</td>\n",
       "      <td>The Chalk Prince and the Dragon</td>\n",
       "      <td>2020-12-23</td>\n",
       "      <td>2021-01-12</td>\n",
       "      <td>Albedo</td>\n",
       "      <td>N</td>\n",
       "      <td>N</td>\n",
       "      <td>11816107</td>\n",
       "      <td>21</td>\n",
       "      <td>562671.76</td>\n",
       "    </tr>\n",
       "  </tbody>\n",
       "</table>\n",
       "</div>"
      ],
      "text/plain": [
       "  version                     version_name  start_date    end_date  \\\n",
       "0     1.0                Welcome to Tevyat  2020-09-25  2020-10-19   \n",
       "1     1.0                Welcome to Tevyat  2020-10-20  2020-11-10   \n",
       "2     1.1            A New Star Approaches  2020-11-11  2020-11-30   \n",
       "3     1.1            A New Star Approaches  2020-12-01  2020-12-22   \n",
       "4     1.2  The Chalk Prince and the Dragon  2020-12-23  2021-01-12   \n",
       "\n",
       "  5_star_characters rerun mixed   revenue  banner_days  avg_revenue  \n",
       "0             Venti     N     N  30632752           25   1225310.08  \n",
       "1              Klee     N     N  22750080           22   1034094.55  \n",
       "2         Tartaglia     N     N  13443619           20    672180.95  \n",
       "3           Zhongli     N     N  16264892           22    739313.27  \n",
       "4            Albedo     N     N  11816107           21    562671.76  "
      ]
     },
     "execution_count": 6,
     "metadata": {},
     "output_type": "execute_result"
    }
   ],
   "source": [
    "#Hilangin Rerun\n",
    "df_nr = df[df['rerun'] == 'N']\n",
    "\n",
    "df_nr.head()"
   ]
  },
  {
   "cell_type": "code",
   "execution_count": 7,
   "metadata": {},
   "outputs": [
    {
     "name": "stdout",
     "output_type": "stream",
     "text": [
      "   version                            version_name  start_date    end_date  \\\n",
      "15     2.0  Immovable God and the Eternal Euthymia  2021-07-21  2021-08-10   \n",
      "16     2.0  Immovable God and the Eternal Euthymia  2021-08-11  2021-08-31   \n",
      "17     2.1      Floating World Under the Moonlight  2021-09-01  2021-09-20   \n",
      "18     2.1      Floating World Under the Moonlight  2021-09-21  2021-10-12   \n",
      "22     2.3               Shadows Amidst Snowstorms  2021-12-14  2022-01-04   \n",
      "25     2.5                   When the Sakura Bloom  2022-02-16  2022-03-08   \n",
      "\n",
      "     5_star_characters rerun mixed   revenue  banner_days  avg_revenue  \n",
      "15      Kamisato Ayaka     N     N  16451006           21    783381.24  \n",
      "16             Yoimiya     N     N   8615144           21    410244.95  \n",
      "17       Raiden Shogun     N     N  33020905           20   1651045.25  \n",
      "18  Sangonomiya Kokomi     N     N   7020975           22    319135.23  \n",
      "22        Arataki Itto     N     N  13404072           22    609276.00  \n",
      "25            Yae Miko     N     N  15110264           21    719536.38  \n"
     ]
    }
   ],
   "source": [
    "#Tambah biar no rerun + nunjukkin yang versi 2 keatas\n",
    "df_nr = df_nr[df_nr['version'].str.startswith('2.', na=True)]\n",
    "\n",
    "print(df_nr)"
   ]
  },
  {
   "cell_type": "code",
   "execution_count": 8,
   "metadata": {},
   "outputs": [
    {
     "data": {
      "image/png": "[encoded data removed]",
      "text/plain": [
       "<Figure size 1200x800 with 1 Axes>"
      ]
     },
     "metadata": {},
     "output_type": "display_data"
    }
   ],
   "source": [
    "plt.rcParams[\"figure.figsize\"] = [12, 8]\n",
    "plt.rcParams[\"axes.labelsize\"] = 40\n",
    "\n",
    "ax = sns.barplot(x='5_star_characters', y='revenue',\n",
    "                 data=df_nr,\n",
    "                 errwidth=5)\n",
    "sns.set(font_scale = 1)\n",
    "plt.title('Solo Banner Revenue',fontdict={'size' : 10})\n",
    "plt.xlabel('5 Star Characters', fontdict={'size' : 10})\n",
    "plt.ylabel('Total Revenue In USD', fontdict={'size' : 10})\n",
    "ax.bar_label(ax.containers[0], labels=[f'{x.get_height():,.0f}' for x in ax.containers[0]])\n",
    "plt.show()"
   ]
  }
 ],
 "metadata": {
  "kernelspec": {
   "display_name": "Python 3",
   "language": "python",
   "name": "python3"
  },
  "language_info": {
   "codemirror_mode": {
    "name": "ipython",
    "version": 3
   },
   "file_extension": ".py",
   "mimetype": "text/x-python",
   "name": "python",
   "nbconvert_exporter": "python",
   "pygments_lexer": "ipython3",
   "version": "3.11.2"
  },
  "orig_nbformat": 4,
  "vscode": {
   "interpreter": {
    "hash": "8bbb1d9220899ca61bb071fa7b9dc7f0dee3f617858445b1dc867e99331a47f4"
   }
  }
 },
 "nbformat": 4,
 "nbformat_minor": 2
}
